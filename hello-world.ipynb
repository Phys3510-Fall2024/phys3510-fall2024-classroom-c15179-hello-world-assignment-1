{
 "cells": [
  {
   "cell_type": "markdown",
   "id": "da123894-ac0f-4264-9683-b4503d522033",
   "metadata": {},
   "source": [
    "# hello world\n",
    "Replace the [insert ...] fields with your information and run the cell. "
   ]
  },
  {
   "cell_type": "code",
   "execution_count": 6,
   "id": "8f441f49-7e24-4038-aa86-691b5e7adc5e",
   "metadata": {},
   "outputs": [
    {
     "name": "stdout",
     "output_type": "stream",
     "text": [
      "hello world, my name is [insert]\n",
      "i hope to use what i learn in this class to [insert]\n"
     ]
    }
   ],
   "source": [
    "print('hello world, my name is [insert]')\n",
    "print('i hope to use what i learn in this class to [insert]')"
   ]
  },
  {
   "cell_type": "code",
   "execution_count": null,
   "id": "f16abbb9-821f-4c89-aa10-ff2592301043",
   "metadata": {},
   "outputs": [],
   "source": []
  }
 ],
 "metadata": {
  "kernelspec": {
   "display_name": "Python 3 (ipykernel)",
   "language": "python",
   "name": "python3"
  },
  "language_info": {
   "codemirror_mode": {
    "name": "ipython",
    "version": 3
   },
   "file_extension": ".py",
   "mimetype": "text/x-python",
   "name": "python",
   "nbconvert_exporter": "python",
   "pygments_lexer": "ipython3",
   "version": "3.9.19"
  }
 },
 "nbformat": 4,
 "nbformat_minor": 5
}
